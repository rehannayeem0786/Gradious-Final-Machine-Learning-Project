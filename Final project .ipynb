{
 "cells": [
  {
   "cell_type": "code",
   "execution_count": 11,
   "id": "0bbe32a6-61df-405d-986f-2471da958544",
   "metadata": {},
   "outputs": [],
   "source": [
    "#Import libraries\n",
    "\n",
    "import pandas as pd\n",
    "import numpy as np\n",
    "import matplotlib.pyplot as plt\n",
    "import seaborn as sns\n",
    "\n",
    "from sklearn.model_selection import train_test_split, cross_val_score\n",
    "from sklearn.preprocessing import StandardScaler, LabelEncoder\n",
    "from sklearn.impute import SimpleImputer\n",
    "from sklearn.linear_model import LinearRegression\n",
    "from sklearn.tree import DecisionTreeRegressor\n",
    "from sklearn.ensemble import GradientBoostingRegressor\n",
    "from sklearn.metrics import mean_squared_error, mean_absolute_error, r2_score\n",
    "\n",
    "import warnings\n",
    "warnings.filterwarnings(\"ignore\")"
   ]
  },
  {
   "cell_type": "code",
   "execution_count": 37,
   "id": "f3d95505-4d61-4b50-ba0e-2d3128727b67",
   "metadata": {},
   "outputs": [
    {
     "data": {
      "text/html": [
       "<div>\n",
       "<style scoped>\n",
       "    .dataframe tbody tr th:only-of-type {\n",
       "        vertical-align: middle;\n",
       "    }\n",
       "\n",
       "    .dataframe tbody tr th {\n",
       "        vertical-align: top;\n",
       "    }\n",
       "\n",
       "    .dataframe thead th {\n",
       "        text-align: right;\n",
       "    }\n",
       "</style>\n",
       "<table border=\"1\" class=\"dataframe\">\n",
       "  <thead>\n",
       "    <tr style=\"text-align: right;\">\n",
       "      <th></th>\n",
       "      <th>fuel_efficiency</th>\n",
       "      <th>engine_config</th>\n",
       "      <th>engine_volume</th>\n",
       "      <th>power_output</th>\n",
       "      <th>vehicle_mass</th>\n",
       "      <th>accel_capability</th>\n",
       "      <th>release_year</th>\n",
       "      <th>manufacture_region</th>\n",
       "    </tr>\n",
       "  </thead>\n",
       "  <tbody>\n",
       "    <tr>\n",
       "      <th>0</th>\n",
       "      <td>18.0</td>\n",
       "      <td>8</td>\n",
       "      <td>307.0</td>\n",
       "      <td>130</td>\n",
       "      <td>3504</td>\n",
       "      <td>12.0</td>\n",
       "      <td>70</td>\n",
       "      <td>1</td>\n",
       "    </tr>\n",
       "    <tr>\n",
       "      <th>1</th>\n",
       "      <td>15.0</td>\n",
       "      <td>8</td>\n",
       "      <td>350.0</td>\n",
       "      <td>165</td>\n",
       "      <td>3693</td>\n",
       "      <td>11.5</td>\n",
       "      <td>70</td>\n",
       "      <td>1</td>\n",
       "    </tr>\n",
       "    <tr>\n",
       "      <th>2</th>\n",
       "      <td>18.0</td>\n",
       "      <td>8</td>\n",
       "      <td>318.0</td>\n",
       "      <td>150</td>\n",
       "      <td>3436</td>\n",
       "      <td>11.0</td>\n",
       "      <td>70</td>\n",
       "      <td>1</td>\n",
       "    </tr>\n",
       "    <tr>\n",
       "      <th>3</th>\n",
       "      <td>16.0</td>\n",
       "      <td>8</td>\n",
       "      <td>304.0</td>\n",
       "      <td>150</td>\n",
       "      <td>3433</td>\n",
       "      <td>12.0</td>\n",
       "      <td>70</td>\n",
       "      <td>1</td>\n",
       "    </tr>\n",
       "    <tr>\n",
       "      <th>4</th>\n",
       "      <td>17.0</td>\n",
       "      <td>8</td>\n",
       "      <td>302.0</td>\n",
       "      <td>140</td>\n",
       "      <td>3449</td>\n",
       "      <td>10.5</td>\n",
       "      <td>70</td>\n",
       "      <td>1</td>\n",
       "    </tr>\n",
       "  </tbody>\n",
       "</table>\n",
       "</div>"
      ],
      "text/plain": [
       "   fuel_efficiency  engine_config  engine_volume power_output  vehicle_mass  \\\n",
       "0             18.0              8          307.0          130          3504   \n",
       "1             15.0              8          350.0          165          3693   \n",
       "2             18.0              8          318.0          150          3436   \n",
       "3             16.0              8          304.0          150          3433   \n",
       "4             17.0              8          302.0          140          3449   \n",
       "\n",
       "   accel_capability  release_year  manufacture_region  \n",
       "0              12.0            70                   1  \n",
       "1              11.5            70                   1  \n",
       "2              11.0            70                   1  \n",
       "3              12.0            70                   1  \n",
       "4              10.5            70                   1  "
      ]
     },
     "execution_count": 37,
     "metadata": {},
     "output_type": "execute_result"
    }
   ],
   "source": [
    "# Load the dataset\n",
    "\n",
    "df = pd.read_csv(r\"C:\\\\Users\\\\91984\\\\Downloads\\\\automobile_performance.csv\")\n",
    "df.head()"
   ]
  },
  {
   "cell_type": "code",
   "execution_count": 19,
   "id": "4dd998cf-9d30-47af-ab97-bc511c1ad509",
   "metadata": {},
   "outputs": [
    {
     "data": {
      "text/plain": [
       "(398, 8)"
      ]
     },
     "execution_count": 19,
     "metadata": {},
     "output_type": "execute_result"
    }
   ],
   "source": [
    "df.shape"
   ]
  },
  {
   "cell_type": "code",
   "execution_count": 20,
   "id": "f43dcbb1-d4f7-4f1c-9a31-329839c36c3a",
   "metadata": {},
   "outputs": [
    {
     "name": "stdout",
     "output_type": "stream",
     "text": [
      "\n",
      "Dataset Info:\n",
      "\n",
      "<class 'pandas.core.frame.DataFrame'>\n",
      "RangeIndex: 398 entries, 0 to 397\n",
      "Data columns (total 8 columns):\n",
      " #   Column              Non-Null Count  Dtype  \n",
      "---  ------              --------------  -----  \n",
      " 0   fuel_efficiency     398 non-null    float64\n",
      " 1   engine_config       398 non-null    int64  \n",
      " 2   engine_volume       398 non-null    float64\n",
      " 3   power_output        398 non-null    object \n",
      " 4   vehicle_mass        398 non-null    int64  \n",
      " 5   accel_capability    398 non-null    float64\n",
      " 6   release_year        398 non-null    int64  \n",
      " 7   manufacture_region  398 non-null    int64  \n",
      "dtypes: float64(3), int64(4), object(1)\n",
      "memory usage: 25.0+ KB\n",
      "None\n"
     ]
    }
   ],
   "source": [
    "print(\"\\nDataset Info:\\n\")\n",
    "print(df.info())"
   ]
  },
  {
   "cell_type": "code",
   "execution_count": 21,
   "id": "ccc52b2b-4eb8-475d-8d7c-c97bcb196a3f",
   "metadata": {},
   "outputs": [
    {
     "data": {
      "text/plain": [
       "fuel_efficiency       0\n",
       "engine_config         0\n",
       "engine_volume         0\n",
       "power_output          0\n",
       "vehicle_mass          0\n",
       "accel_capability      0\n",
       "release_year          0\n",
       "manufacture_region    0\n",
       "dtype: int64"
      ]
     },
     "execution_count": 21,
     "metadata": {},
     "output_type": "execute_result"
    }
   ],
   "source": [
    "df.isnull().sum()"
   ]
  },
  {
   "cell_type": "code",
   "execution_count": 22,
   "id": "bf31725d-9b5a-48e9-92d6-58f45d3ea944",
   "metadata": {},
   "outputs": [
    {
     "data": {
      "text/plain": [
       "0"
      ]
     },
     "execution_count": 22,
     "metadata": {},
     "output_type": "execute_result"
    }
   ],
   "source": [
    "df.duplicated().sum()"
   ]
  },
  {
   "cell_type": "code",
   "execution_count": 36,
   "id": "f264d41f-0d6a-46ea-bee2-a2dc2dbc2ad0",
   "metadata": {},
   "outputs": [],
   "source": [
    "# engine_config and manufacture_region are categorical\n",
    "\n",
    "label_enc = LabelEncoder()\n",
    "df[\"engine_config\"] = label_enc.fit_transform(df[\"engine_config\"])\n",
    "df[\"manufacture_region\"] = label_enc.fit_transform(df[\"manufacture_region\"])"
   ]
  },
  {
   "cell_type": "code",
   "execution_count": 35,
   "id": "e5e4c640-5885-4086-8105-99d9a0cf5bd7",
   "metadata": {},
   "outputs": [],
   "source": [
    "# Feature Scaling\n",
    "\n",
    "scaler = StandardScaler()\n",
    "scaled_features = scaler.fit_transform(df.drop(\"fuel_efficiency\", axis=1))\n",
    "X = pd.DataFrame(scaled_features, columns=df.drop(\"fuel_efficiency\", axis=1).columns)\n",
    "y = df[\"fuel_efficiency\"]"
   ]
  },
  {
   "cell_type": "code",
   "execution_count": 34,
   "id": "220c876b-357d-4ff5-93af-4c1749cd26ed",
   "metadata": {},
   "outputs": [
    {
     "name": "stdout",
     "output_type": "stream",
     "text": [
      "\n",
      "Shape after outlier removal: (384, 7)\n"
     ]
    }
   ],
   "source": [
    "# Outlier Detection (Z-score method)\n",
    "\n",
    "from scipy import stats\n",
    "z_scores = np.abs(stats.zscore(X))\n",
    "X = X[(z_scores < 3).all(axis=1)]\n",
    "y = y[X.index]\n",
    "\n",
    "print(\"\\nShape after outlier removal:\", X.shape)"
   ]
  },
  {
   "cell_type": "code",
   "execution_count": 32,
   "id": "1e23c1ed-f236-4d1e-a2ce-f2b6be75995f",
   "metadata": {},
   "outputs": [],
   "source": [
    "# Train-Test Split\n",
    "\n",
    "X_train, X_test, y_train, y_test = train_test_split(X, y, test_size=0.2, random_state=42)"
   ]
  },
  {
   "cell_type": "code",
   "execution_count": 38,
   "id": "f3cb0d4b-1308-4dbf-955c-aa9f42e378c0",
   "metadata": {},
   "outputs": [
    {
     "name": "stdout",
     "output_type": "stream",
     "text": [
      "\n",
      "Linear Regression Performance:\n",
      "RMSE: 3.201\n",
      "MAE: 2.454\n",
      "R² Score: 0.804\n",
      "\n",
      "Decision Tree Performance:\n",
      "RMSE: 3.166\n",
      "MAE: 2.405\n",
      "R² Score: 0.808\n",
      "\n",
      "Gradient Boosting Performance:\n",
      "RMSE: 2.764\n",
      "MAE: 2.073\n",
      "R² Score: 0.854\n"
     ]
    }
   ],
   "source": [
    "# Train Models\n",
    "\n",
    "models = {\n",
    "    \"Linear Regression\": LinearRegression(),\n",
    "    \"Decision Tree\": DecisionTreeRegressor(random_state=42),\n",
    "    \"Gradient Boosting\": GradientBoostingRegressor(random_state=42)\n",
    "}\n",
    "\n",
    "results = {}\n",
    "\n",
    "for name, model in models.items():\n",
    "    model.fit(X_train, y_train)\n",
    "    y_pred = model.predict(X_test)\n",
    "\n",
    "    rmse = np.sqrt(mean_squared_error(y_test, y_pred))\n",
    "    mae = mean_absolute_error(y_test, y_pred)\n",
    "    r2 = r2_score(y_test, y_pred)\n",
    "\n",
    "    results[name] = {\"RMSE\": rmse, \"MAE\": mae, \"R²\": r2}\n",
    "\n",
    "    print(f\"\\n{name} Performance:\")\n",
    "    print(f\"RMSE: {rmse:.3f}\")\n",
    "    print(f\"MAE: {mae:.3f}\")\n",
    "    print(f\"R² Score: {r2:.3f}\")"
   ]
  },
  {
   "cell_type": "code",
   "execution_count": 39,
   "id": "573de61b-18e3-4e8b-bd38-354916b0e18f",
   "metadata": {},
   "outputs": [
    {
     "name": "stdout",
     "output_type": "stream",
     "text": [
      "\n",
      "Model Comparison:\n",
      "                        RMSE       MAE        R²\n",
      "Linear Regression  3.200667  2.454301  0.803736\n",
      "Decision Tree      3.165758  2.405063  0.807994\n",
      "Gradient Boosting  2.763708  2.073402  0.853667\n"
     ]
    }
   ],
   "source": [
    "# Compare Model Performance\n",
    "\n",
    "results_df = pd.DataFrame(results).T\n",
    "print(\"\\nModel Comparison:\\n\", results_df)"
   ]
  },
  {
   "cell_type": "code",
   "execution_count": 40,
   "id": "b3d69e93-21fd-4ac3-8ef0-f5390c005738",
   "metadata": {},
   "outputs": [
    {
     "data": {
      "image/png": "[encoded data removed]",
      "text/plain": [
       "<Figure size 800x500 with 1 Axes>"
      ]
     },
     "metadata": {},
     "output_type": "display_data"
    }
   ],
   "source": [
    "# Visualization\n",
    "\n",
    "plt.figure(figsize=(8,5))\n",
    "sns.barplot(x=results_df.index, y=results_df[\"R²\"])\n",
    "plt.title(\"Model Comparison (R² Score)\")\n",
    "plt.ylabel(\"R² Score\")\n",
    "plt.show()"
   ]
  },
  {
   "cell_type": "code",
   "execution_count": 42,
   "id": "f77f67ca-4f3e-4e32-b6c3-f1e33adf042e",
   "metadata": {},
   "outputs": [
    {
     "data": {
      "image/png": "[encoded data removed]",
      "text/plain": [
       "<Figure size 800x500 with 1 Axes>"
      ]
     },
     "metadata": {},
     "output_type": "display_data"
    }
   ],
   "source": [
    "# Error distribution for best model\n",
    "\n",
    "best_model_name = results_df[\"R²\"].idxmax()\n",
    "best_model = models[best_model_name]\n",
    "y_pred_best = best_model.predict(X_test)\n",
    "\n",
    "plt.figure(figsize=(8,5))\n",
    "sns.scatterplot(x=y_test, y=y_pred_best)\n",
    "plt.xlabel(\"Actual Fuel Efficiency\")\n",
    "plt.ylabel(\"Predicted Fuel Efficiency\")\n",
    "plt.title(f\"Actual vs Predicted ({best_model_name})\")\n",
    "plt.show()\n"
   ]
  },
  {
   "cell_type": "code",
   "execution_count": null,
   "id": "dd5688d8-aac0-43f3-b44d-eed0e6f1c8a9",
   "metadata": {},
   "outputs": [],
   "source": []
  },
  {
   "cell_type": "code",
   "execution_count": null,
   "id": "e1e34e3a-102b-44ed-a6e2-6b23f1bfc322",
   "metadata": {},
   "outputs": [],
   "source": []
  },
  {
   "cell_type": "code",
   "execution_count": null,
   "id": "67cb26d3-5d37-444e-bf5d-9224742f7a29",
   "metadata": {},
   "outputs": [],
   "source": []
  },
  {
   "cell_type": "code",
   "execution_count": null,
   "id": "adb65426-b06e-49a1-b52f-a1d29b2c3495",
   "metadata": {},
   "outputs": [],
   "source": []
  },
  {
   "cell_type": "code",
   "execution_count": null,
   "id": "03a31925-1d17-4988-b245-61d1cb0337fa",
   "metadata": {},
   "outputs": [],
   "source": []
  }
 ],
 "metadata": {
  "kernelspec": {
   "display_name": "Python 3 (ipykernel)",
   "language": "python",
   "name": "python3"
  },
  "language_info": {
   "codemirror_mode": {
    "name": "ipython",
    "version": 3
   },
   "file_extension": ".py",
   "mimetype": "text/x-python",
   "name": "python",
   "nbconvert_exporter": "python",
   "pygments_lexer": "ipython3",
   "version": "3.10.18"
  }
 },
 "nbformat": 4,
 "nbformat_minor": 5
}
